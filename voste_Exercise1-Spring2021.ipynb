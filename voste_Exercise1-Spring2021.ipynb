{
 "cells": [
  {
   "cell_type": "code",
   "execution_count": 3,
   "metadata": {},
   "outputs": [],
   "source": [
    "ice_cream_rating = 5\n",
    "sleeping_rating = 9"
   ]
  },
  {
   "cell_type": "code",
   "execution_count": 4,
   "metadata": {},
   "outputs": [
    {
     "name": "stdout",
     "output_type": "stream",
     "text": [
      "First name: Vangie\n",
      "Last name: Osteguin\n"
     ]
    }
   ],
   "source": [
    "first_name = input(\"First name: \")\n",
    "last_name = input(\"Last name: \")"
   ]
  },
  {
   "cell_type": "code",
   "execution_count": 5,
   "metadata": {},
   "outputs": [],
   "source": [
    "rating_sum = ice_cream_rating +  sleeping_rating\n",
    "happiness_rating = rating_sum/2"
   ]
  },
  {
   "cell_type": "code",
   "execution_count": 6,
   "metadata": {},
   "outputs": [
    {
     "name": "stdout",
     "output_type": "stream",
     "text": [
      "<class 'int'>\n",
      "<class 'str'>\n",
      "<class 'float'>\n"
     ]
    }
   ],
   "source": [
    "print(type(ice_cream_rating))\n",
    "print(type(first_name))\n",
    "print(type(happiness_rating))"
   ]
  },
  {
   "cell_type": "markdown",
   "metadata": {},
   "source": [
    "### Interesting that the happiness rating is a float. I would have thought interger. Float probably came about because it's divided and creating a float allows decimal values to appear."
   ]
  },
  {
   "cell_type": "code",
   "execution_count": 7,
   "metadata": {},
   "outputs": [
    {
     "name": "stdout",
     "output_type": "stream",
     "text": [
      "My name is Vangie and I give eating ice cream a score of 5 out of 10!\n",
      "I am Vangie Osteguin and my sleeping enjoyment rating is 9 / 10!\n",
      "Based on the factors above, my happiness rating is 7.0 out of 10, or 70.0%\n"
     ]
    }
   ],
   "source": [
    "print(\"My name is {} and I give eating ice cream a score of {} out of 10!\".format(first_name, ice_cream_rating))\n",
    "print(\"I am {} {} and my sleeping enjoyment rating is {} / 10!\".format(first_name, last_name, sleeping_rating))\n",
    "print(\"Based on the factors above, my happiness rating is {} out of 10, or {}%\".format(happiness_rating, happiness_rating*10))"
   ]
  }
 ],
 "metadata": {
  "kernelspec": {
   "display_name": "Python 3",
   "language": "python",
   "name": "python3"
  },
  "language_info": {
   "codemirror_mode": {
    "name": "ipython",
    "version": 3
   },
   "file_extension": ".py",
   "mimetype": "text/x-python",
   "name": "python",
   "nbconvert_exporter": "python",
   "pygments_lexer": "ipython3",
   "version": "3.8.5"
  }
 },
 "nbformat": 4,
 "nbformat_minor": 4
}
